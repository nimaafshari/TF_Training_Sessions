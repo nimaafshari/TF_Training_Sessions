{
  "nbformat": 4,
  "nbformat_minor": 0,
  "metadata": {
    "colab": {
      "name": "TF_Trianing_Session_2.ipynb",
      "provenance": [],
      "collapsed_sections": [],
      "authorship_tag": "ABX9TyOUy2BPaztlDhxJCcpGsLgB",
      "include_colab_link": true
    },
    "kernelspec": {
      "name": "python3",
      "display_name": "Python 3"
    }
  },
  "cells": [
    {
      "cell_type": "markdown",
      "metadata": {
        "id": "view-in-github",
        "colab_type": "text"
      },
      "source": [
        "<a href=\"https://colab.research.google.com/github/nimaafshari/TF_Training_Sessions/blob/main/TF_Trianing_Session_2.ipynb\" target=\"_parent\"><img src=\"https://colab.research.google.com/assets/colab-badge.svg\" alt=\"Open In Colab\"/></a>"
      ]
    },
    {
      "cell_type": "code",
      "metadata": {
        "id": "oLskCTZJRKbI"
      },
      "source": [
        "import tensorflow as tf\n",
        "import numpy as np\n",
        "import matplotlib.pyplot as plt\n",
        "from IPython.display import display, Markdown\n"
      ],
      "execution_count": 69,
      "outputs": []
    },
    {
      "cell_type": "markdown",
      "metadata": {
        "id": "4rNqEcOXLPW5"
      },
      "source": [
        "Binary and multiclass classification\n",
        "\n"
      ]
    },
    {
      "cell_type": "markdown",
      "metadata": {
        "id": "1a8H8qYGLe5N"
      },
      "source": [
        "Multi-class classification:\n",
        "Apart from the different network structures which the problem might have, the only difference between binary and multiclass classification is final layer activation function. In binary classification we usually use a sigmoid activation function and in multiclass one softmax is the proper choice. In this example we train a multiclass classification problem using TF for a monochrome image 0-9 number dataset. "
      ]
    },
    {
      "cell_type": "code",
      "metadata": {
        "id": "XSoC65vtKmRX"
      },
      "source": [
        "(training_images, training_labels), (test_images, test_labels) = tf.keras.datasets.mnist.load_data()\n"
      ],
      "execution_count": 70,
      "outputs": []
    },
    {
      "cell_type": "markdown",
      "metadata": {
        "id": "4nXUlwiBREHx"
      },
      "source": [
        "Let's take a look at what we got. First looking at the dataset shapes"
      ]
    },
    {
      "cell_type": "code",
      "metadata": {
        "colab": {
          "base_uri": "https://localhost:8080/"
        },
        "id": "2pXiF20uRDkP",
        "outputId": "b415a6c9-84f7-4c85-ca42-5fa43da3051b"
      },
      "source": [
        "print(f'''\n",
        "Shape of train data:  {training_images.shape}\n",
        "\n",
        "Shape of train_label data:  {training_labels.shape}\n",
        "\n",
        "Shape of test data:  {test_images.shape}\n",
        "\n",
        "Shape of test_label data:  {test_labels.shape}\n",
        "''')"
      ],
      "execution_count": 41,
      "outputs": [
        {
          "output_type": "stream",
          "text": [
            "\n",
            "Shape of train data:  (60000, 28, 28)\n",
            "\n",
            "Shape of train_label data:  (60000,)\n",
            "\n",
            "Shape of test data:  (10000, 28, 28)\n",
            "\n",
            "Shape of test_label data:  (10000,)\n",
            "\n"
          ],
          "name": "stdout"
        }
      ]
    },
    {
      "cell_type": "markdown",
      "metadata": {
        "id": "mDbVkzxeU0Xf"
      },
      "source": [
        "Let's look at some examples"
      ]
    },
    {
      "cell_type": "code",
      "metadata": {
        "colab": {
          "base_uri": "https://localhost:8080/",
          "height": 866
        },
        "id": "Uswd5q9ZS6ul",
        "outputId": "d76a76ca-1c6d-497a-f18a-1f4878ecdb2d"
      },
      "source": [
        "index = 10\n",
        "\n",
        "np.set_printoptions(linewidth=200)\n",
        "plt.imshow(training_images[index,:,:])\n",
        "display(Markdown(f'#<strong>Label:  {training_labels[index]}</strong><br/><br/>'))\n",
        "print(training_images[index,:,:],'\\n\\n')\n"
      ],
      "execution_count": 42,
      "outputs": [
        {
          "output_type": "display_data",
          "data": {
            "text/markdown": "#<strong>Label:  3</strong><br/><br/>",
            "text/plain": [
              "<IPython.core.display.Markdown object>"
            ]
          },
          "metadata": {
            "tags": []
          }
        },
        {
          "output_type": "stream",
          "text": [
            "[[  0   0   0   0   0   0   0   0   0   0   0   0   0   0   0   0   0   0   0   0   0   0   0   0   0   0   0   0]\n",
            " [  0   0   0   0   0   0   0   0   0   0   0   0   0   0   0   0   0   0   0   0   0   0   0   0   0   0   0   0]\n",
            " [  0   0   0   0   0   0   0   0   0   0   0   0   0   0   0   0   0   0   0   0   0   0   0   0   0   0   0   0]\n",
            " [  0   0   0   0   0   0   0   0   0   0   0   0   0   0   0   0   0   0   0   0   0   0   0   0   0   0   0   0]\n",
            " [  0   0   0   0   0   0   0   0   0   0   0  42 118 219 166 118 118   6   0   0   0   0   0   0   0   0   0   0]\n",
            " [  0   0   0   0   0   0   0   0   0   0 103 242 254 254 254 254 254  66   0   0   0   0   0   0   0   0   0   0]\n",
            " [  0   0   0   0   0   0   0   0   0   0  18 232 254 254 254 254 254 238  70   0   0   0   0   0   0   0   0   0]\n",
            " [  0   0   0   0   0   0   0   0   0   0   0 104 244 254 224 254 254 254 141   0   0   0   0   0   0   0   0   0]\n",
            " [  0   0   0   0   0   0   0   0   0   0   0   0 207 254 210 254 254 254  34   0   0   0   0   0   0   0   0   0]\n",
            " [  0   0   0   0   0   0   0   0   0   0   0   0  84 206 254 254 254 254  41   0   0   0   0   0   0   0   0   0]\n",
            " [  0   0   0   0   0   0   0   0   0   0   0   0   0  24 209 254 254 254 171   0   0   0   0   0   0   0   0   0]\n",
            " [  0   0   0   0   0   0   0   0   0   0   0   0  91 137 253 254 254 254 112   0   0   0   0   0   0   0   0   0]\n",
            " [  0   0   0   0   0   0   0   0   0   0  40 214 250 254 254 254 254 254  34   0   0   0   0   0   0   0   0   0]\n",
            " [  0   0   0   0   0   0   0   0   0   0  81 247 254 254 254 254 254 254 146   0   0   0   0   0   0   0   0   0]\n",
            " [  0   0   0   0   0   0   0   0   0   0   0 110 246 254 254 254 254 254 171   0   0   0   0   0   0   0   0   0]\n",
            " [  0   0   0   0   0   0   0   0   0   0   0   0  73  89  89  93 240 254 171   0   0   0   0   0   0   0   0   0]\n",
            " [  0   0   0   0   0   0   0   0   0   0   0   0   0   0   0   1 128 254 219  31   0   0   0   0   0   0   0   0]\n",
            " [  0   0   0   0   0   0   0   0   0   0   0   0   0   0   0   7 254 254 214  28   0   0   0   0   0   0   0   0]\n",
            " [  0   0   0   0   0   0   0   0   0   0   0   0   0   0   0 138 254 254 116   0   0   0   0   0   0   0   0   0]\n",
            " [  0   0   0   0   0   0  19 177  90   0   0   0   0   0  25 240 254 254  34   0   0   0   0   0   0   0   0   0]\n",
            " [  0   0   0   0   0   0 164 254 215  63  36   0  51  89 206 254 254 139   8   0   0   0   0   0   0   0   0   0]\n",
            " [  0   0   0   0   0   0  57 197 254 254 222 180 241 254 254 253 213  11   0   0   0   0   0   0   0   0   0   0]\n",
            " [  0   0   0   0   0   0   0 140 105 254 254 254 254 254 254 236   0   0   0   0   0   0   0   0   0   0   0   0]\n",
            " [  0   0   0   0   0   0   0   0   7 117 117 165 254 254 239  50   0   0   0   0   0   0   0   0   0   0   0   0]\n",
            " [  0   0   0   0   0   0   0   0   0   0   0   0   0   0   0   0   0   0   0   0   0   0   0   0   0   0   0   0]\n",
            " [  0   0   0   0   0   0   0   0   0   0   0   0   0   0   0   0   0   0   0   0   0   0   0   0   0   0   0   0]\n",
            " [  0   0   0   0   0   0   0   0   0   0   0   0   0   0   0   0   0   0   0   0   0   0   0   0   0   0   0   0]\n",
            " [  0   0   0   0   0   0   0   0   0   0   0   0   0   0   0   0   0   0   0   0   0   0   0   0   0   0   0   0]] \n",
            "\n",
            "\n"
          ],
          "name": "stdout"
        },
        {
          "output_type": "display_data",
          "data": {
            "image/png": "[encoded data removed]",
            "text/plain": [
              "<Figure size 432x288 with 1 Axes>"
            ]
          },
          "metadata": {
            "tags": [],
            "needs_background": "light"
          }
        }
      ]
    },
    {
      "cell_type": "markdown",
      "metadata": {
        "id": "hSh0bxUBLXQm"
      },
      "source": [
        "The first step in ML projects is to split the train/test portions. Fortunately, the mnist is splitted to be a better benchmark to compare the models of different researchers. The next step is to normalize the data. This step is not tied to only ML, it is an statistical necessity whenever use optimization methods to make all input data comparable to eachother (Various techniques can produce different results)."
      ]
    },
    {
      "cell_type": "code",
      "metadata": {
        "id": "So6FVC_OLWue"
      },
      "source": [
        "# Rescale the images from [0,255] to the [0.0,1.0] range.\n",
        "training_images, test_images = training_images[..., np.newaxis]/255.0, test_images[..., np.newaxis]/255.0"
      ],
      "execution_count": 43,
      "outputs": []
    },
    {
      "cell_type": "markdown",
      "metadata": {
        "id": "6hp_afH9Zq7N"
      },
      "source": [
        "Now let's create our neural network. Unless previous session example here our input is 2-dimensional. Cconvolutionals can handle multidimensions directly and usually we use them for multi-dimesional projects. But for the purpose of this training we convert that to 1-dimensional using the flatten layer and then create our the remaining part of the neural network for a (28*28 = 784) vector"
      ]
    },
    {
      "cell_type": "code",
      "metadata": {
        "colab": {
          "base_uri": "https://localhost:8080/"
        },
        "id": "RVfRT49bXpce",
        "outputId": "82ffb565-4102-4e04-f2e3-9aab1fee17e5"
      },
      "source": [
        "model = tf.keras.models.Sequential([tf.keras.layers.Flatten(), \n",
        "                                    tf.keras.layers.Dense(128, activation='relu'), \n",
        "                                    tf.keras.layers.Dense(10, activation='softmax')])\n",
        "\n",
        "model.compile(optimizer = 'adam',\n",
        "              loss = 'sparse_categorical_crossentropy',\n",
        "              metrics=['accuracy'])\n",
        "\n",
        "model.fit(training_images, training_labels, epochs=5)"
      ],
      "execution_count": 44,
      "outputs": [
        {
          "output_type": "stream",
          "text": [
            "Epoch 1/5\n",
            "1875/1875 [==============================] - 5s 2ms/step - loss: 0.4343 - accuracy: 0.8770\n",
            "Epoch 2/5\n",
            "1875/1875 [==============================] - 4s 2ms/step - loss: 0.1221 - accuracy: 0.9630\n",
            "Epoch 3/5\n",
            "1875/1875 [==============================] - 4s 2ms/step - loss: 0.0808 - accuracy: 0.9758\n",
            "Epoch 4/5\n",
            "1875/1875 [==============================] - 4s 2ms/step - loss: 0.0575 - accuracy: 0.9837\n",
            "Epoch 5/5\n",
            "1875/1875 [==============================] - 4s 2ms/step - loss: 0.0443 - accuracy: 0.9863\n"
          ],
          "name": "stdout"
        },
        {
          "output_type": "execute_result",
          "data": {
            "text/plain": [
              "<tensorflow.python.keras.callbacks.History at 0x7f66d3bf4a90>"
            ]
          },
          "metadata": {
            "tags": []
          },
          "execution_count": 44
        }
      ]
    },
    {
      "cell_type": "markdown",
      "metadata": {
        "id": "OrzdImROdKh1"
      },
      "source": [
        "Evaluate the model using the test set"
      ]
    },
    {
      "cell_type": "code",
      "metadata": {
        "colab": {
          "base_uri": "https://localhost:8080/"
        },
        "id": "z0YET1VlcYKG",
        "outputId": "6a4808b9-6d8f-434c-8f95-edc7f43ebdba"
      },
      "source": [
        "model.evaluate(test_images, test_labels)"
      ],
      "execution_count": 45,
      "outputs": [
        {
          "output_type": "stream",
          "text": [
            "313/313 [==============================] - 1s 1ms/step - loss: 0.0797 - accuracy: 0.9760\n"
          ],
          "name": "stdout"
        },
        {
          "output_type": "execute_result",
          "data": {
            "text/plain": [
              "[0.07968883961439133, 0.9760000109672546]"
            ]
          },
          "metadata": {
            "tags": []
          },
          "execution_count": 45
        }
      ]
    },
    {
      "cell_type": "markdown",
      "metadata": {
        "id": "tDdKTIxadYjd"
      },
      "source": [
        "Looking at some of the predictions"
      ]
    },
    {
      "cell_type": "code",
      "metadata": {
        "colab": {
          "base_uri": "https://localhost:8080/",
          "height": 164
        },
        "id": "wz6y5LV1dO0Q",
        "outputId": "1029ba05-9cc3-468e-cbfa-07e89c579981"
      },
      "source": [
        "\n",
        "classifications = model.predict(test_images)\n",
        "\n",
        "index = 4\n",
        "print(classifications[index])\n",
        "display(Markdown(f'#<strong>Predicted Label:  {np.argmax(classifications[index])}</strong><br/>'))\n",
        "display(Markdown(f'#<strong>Actual Label:  {test_labels[index]}</strong><br/>'))"
      ],
      "execution_count": 58,
      "outputs": [
        {
          "output_type": "stream",
          "text": [
            "[2.3729018e-07 6.8371964e-10 1.9119764e-06 8.4839179e-08 9.9812537e-01 1.0393331e-06 3.9120818e-07 1.5104358e-05 8.0365198e-06 1.8478929e-03]\n"
          ],
          "name": "stdout"
        },
        {
          "output_type": "display_data",
          "data": {
            "text/markdown": "#<strong>Predicted Label:  4</strong><br/>",
            "text/plain": [
              "<IPython.core.display.Markdown object>"
            ]
          },
          "metadata": {
            "tags": []
          }
        },
        {
          "output_type": "display_data",
          "data": {
            "text/markdown": "#<strong>Actual Label:  4</strong><br/>",
            "text/plain": [
              "<IPython.core.display.Markdown object>"
            ]
          },
          "metadata": {
            "tags": []
          }
        }
      ]
    },
    {
      "cell_type": "markdown",
      "metadata": {
        "id": "dEAuqQ5pf6Tx"
      },
      "source": [
        "**Binary Classification**\n",
        "\n",
        "Here we filter the original data to have only 0 and 9 in our dataset and will try to predict only those 2 classes"
      ]
    },
    {
      "cell_type": "code",
      "metadata": {
        "id": "uG6dBWL9dfAn"
      },
      "source": [
        "def filter_09(x, y):\n",
        "    keep = (y == 0) | (y == 9)\n",
        "    x, y = x[keep], y[keep]\n",
        "    y = (y == 9)\n",
        "    return x,y"
      ],
      "execution_count": 114,
      "outputs": []
    },
    {
      "cell_type": "code",
      "metadata": {
        "colab": {
          "base_uri": "https://localhost:8080/"
        },
        "id": "BAXEifV6gYly",
        "outputId": "b0d8deef-a9c9-4537-db14-2370c312c21d"
      },
      "source": [
        "(training_images, training_labels), (test_images, test_labels) = tf.keras.datasets.mnist.load_data()\n",
        "\n",
        "training_images, training_labels = filter_09(training_images, training_labels)\n",
        "test_images, test_labels = filter_09(test_images, test_labels)\n",
        "\n",
        "print(\"Number of filtered training examples:\", len(training_images))\n",
        "print(\"Number of filtered test examples:\", len(test_images))"
      ],
      "execution_count": 115,
      "outputs": [
        {
          "output_type": "stream",
          "text": [
            "Number of filtered training examples: 11872\n",
            "Number of filtered test examples: 1989\n"
          ],
          "name": "stdout"
        }
      ]
    },
    {
      "cell_type": "markdown",
      "metadata": {
        "id": "bpv9AuUgg6Cv"
      },
      "source": [
        "Looking at some of those"
      ]
    },
    {
      "cell_type": "code",
      "metadata": {
        "colab": {
          "base_uri": "https://localhost:8080/",
          "height": 866
        },
        "id": "8ZFtXNwagitQ",
        "outputId": "8ebbde38-7391-4f96-951e-41f8fbce503d"
      },
      "source": [
        "index = 11\n",
        "\n",
        "np.set_printoptions(linewidth=200)\n",
        "plt.imshow(training_images[index,:,:])\n",
        "display(Markdown(f'#<strong>Label:  {training_labels[index]}</strong><br/><br/>'))\n",
        "print(training_images[index,:,:],'\\n\\n')\n"
      ],
      "execution_count": 116,
      "outputs": [
        {
          "output_type": "display_data",
          "data": {
            "text/markdown": "#<strong>Label:  False</strong><br/><br/>",
            "text/plain": [
              "<IPython.core.display.Markdown object>"
            ]
          },
          "metadata": {
            "tags": []
          }
        },
        {
          "output_type": "stream",
          "text": [
            "[[  0   0   0   0   0   0   0   0   0   0   0   0   0   0   0   0   0   0   0   0   0   0   0   0   0   0   0   0]\n",
            " [  0   0   0   0   0   0   0   0   0   0   0   0   0   0   0   0   0   0   0   0   0   0   0   0   0   0   0   0]\n",
            " [  0   0   0   0   0   0   0   0   0   0   0   0   0   0   0   0   0   0   0   0   0   0   0   0   0   0   0   0]\n",
            " [  0   0   0   0   0   0   0   0   0   0   0   0   0   0   0   0   0   0   0   0   0   0   0   0   0   0   0   0]\n",
            " [  0   0   0   0   0   0   0   0   0   0   0   0   0   0   0   0   0   0   0   0   0   0   0   0   0   0   0   0]\n",
            " [  0   0   0   0   0   0   0   0   0   0   0   0   0  46 105 254 254 254 254 255 239  41   0   0   0   0   0   0]\n",
            " [  0   0   0   0   0   0   0   0   0   0   0  37 118 222 254 253 253 253 253 253 253 211  54   0   0   0   0   0]\n",
            " [  0   0   0   0   0   0   0   0   0   0  14 200 253 253 254 253 253 253 253 253 253 253 116   0   0   0   0   0]\n",
            " [  0   0   0   0   0   0   0   0  16 160 236 253 253 253 254 253 253 246 229 253 253 253 116   0   0   0   0   0]\n",
            " [  0   0   0   0   0   0   0   0  99 253 253 253 253 253 254 253 253 213  99 253 253 253 116   0   0   0   0   0]\n",
            " [  0   0   0   0   0   0   0  25 194 253 253 253 253 131  97 169 253  93  99 253 253 253 116   0   0   0   0   0]\n",
            " [  0   0   0   0   0   0   0 206 253 253 251 233 127   9   0  18  38   3  15 171 253 253 116   0   0   0   0   0]\n",
            " [  0   0   0   0   0   0  55 240 253 253 233   0   0   0   0   0   0   0  31 186 253 253 116   0   0   0   0   0]\n",
            " [  0   0   0   0   0   0 176 253 253 253 127   0   0   0   0   0   0   0  99 253 253 253 116   0   0   0   0   0]\n",
            " [  0   0   0   0   0   0 176 253 253 131   9   0   0   0   0   0   0   0  99 253 253 253 116   0   0   0   0   0]\n",
            " [  0   0   0   0   0 119 254 254 232  75   0   0   0   0   0   0   0   0   0 158 254 254 117   0   0   0   0   0]\n",
            " [  0   0   0   0   0 118 253 253 154   0   0   0   0   0   0   0   0   0   0 156 253 253 116   0   0   0   0   0]\n",
            " [  0   0   0   0   0 118 253 253 154   0   0   0   0   0   0   0   0   0   0 156 253 253 116   0   0   0   0   0]\n",
            " [  0   0   0   0  46 222 253 253 154   0   0   0   0   0   0   0   0   7 116 246 253 180   9   0   0   0   0   0]\n",
            " [  0   0   0   0   0 118 253 253 154   0   0   0   0   0   0   0   0 116 253 253 253 174   0   0   0   0   0   0]\n",
            " [  0   0   0   0   0 118 253 253 154   0   0   0   0   0   0   0 110 246 253 253 240  67   0   0   0   0   0   0]\n",
            " [  0   0   0   0   0 118 253 253 238 215  49  20  20  20  66 215 241 253 245 233  64   0   0   0   0   0   0   0]\n",
            " [  0   0   0   0   0  82 229 253 253 253 253 253 253 253 254 253 253 240 107   0   0   0   0   0   0   0   0   0]\n",
            " [  0   0   0   0   0   0 176 253 253 253 253 253 253 253 254 253 253 108   0   0   0   0   0   0   0   0   0   0]\n",
            " [  0   0   0   0   0   0  40 239 253 253 253 253 253 253 254 161  57   4   0   0   0   0   0   0   0   0   0   0]\n",
            " [  0   0   0   0   0   0   0   0   0   0   0   0   0   0   0   0   0   0   0   0   0   0   0   0   0   0   0   0]\n",
            " [  0   0   0   0   0   0   0   0   0   0   0   0   0   0   0   0   0   0   0   0   0   0   0   0   0   0   0   0]\n",
            " [  0   0   0   0   0   0   0   0   0   0   0   0   0   0   0   0   0   0   0   0   0   0   0   0   0   0   0   0]] \n",
            "\n",
            "\n"
          ],
          "name": "stdout"
        },
        {
          "output_type": "display_data",
          "data": {
            "image/png": "[encoded data removed]",
            "text/plain": [
              "<Figure size 432x288 with 1 Axes>"
            ]
          },
          "metadata": {
            "tags": [],
            "needs_background": "light"
          }
        }
      ]
    },
    {
      "cell_type": "code",
      "metadata": {
        "colab": {
          "base_uri": "https://localhost:8080/"
        },
        "id": "cB8PlD3Yg89m",
        "outputId": "6119a5e1-3d74-4a79-83f6-4c0a27a134bb"
      },
      "source": [
        "# Rescale the images from [0,255] to the [0.0,1.0] range.\n",
        "training_images, test_images = training_images[..., np.newaxis]/255.0, test_images[..., np.newaxis]/255.0\n",
        "\n",
        "model = tf.keras.models.Sequential([tf.keras.layers.Flatten(), \n",
        "                                    tf.keras.layers.Dense(128, activation='relu'), \n",
        "                                    tf.keras.layers.Dense(2, activation='sigmoid')])\n",
        "\n",
        "model.compile(optimizer = 'adam',\n",
        "              loss = 'sparse_categorical_crossentropy',\n",
        "              metrics=['accuracy'])\n",
        "\n",
        "model.fit(training_images, training_labels, epochs=5, validation_data = (test_images, test_labels))"
      ],
      "execution_count": 117,
      "outputs": [
        {
          "output_type": "stream",
          "text": [
            "Epoch 1/5\n",
            "371/371 [==============================] - 1s 3ms/step - loss: 0.0669 - accuracy: 0.9798 - val_loss: 0.0257 - val_accuracy: 0.9915\n",
            "Epoch 2/5\n",
            "371/371 [==============================] - 1s 2ms/step - loss: 0.0139 - accuracy: 0.9966 - val_loss: 0.0237 - val_accuracy: 0.9930\n",
            "Epoch 3/5\n",
            "371/371 [==============================] - 1s 2ms/step - loss: 0.0104 - accuracy: 0.9963 - val_loss: 0.0189 - val_accuracy: 0.9945\n",
            "Epoch 4/5\n",
            "371/371 [==============================] - 1s 2ms/step - loss: 0.0054 - accuracy: 0.9985 - val_loss: 0.0147 - val_accuracy: 0.9950\n",
            "Epoch 5/5\n",
            "371/371 [==============================] - 1s 2ms/step - loss: 0.0032 - accuracy: 0.9992 - val_loss: 0.0142 - val_accuracy: 0.9975\n"
          ],
          "name": "stdout"
        },
        {
          "output_type": "execute_result",
          "data": {
            "text/plain": [
              "<tensorflow.python.keras.callbacks.History at 0x7f66bf3fcd90>"
            ]
          },
          "metadata": {
            "tags": []
          },
          "execution_count": 117
        }
      ]
    },
    {
      "cell_type": "code",
      "metadata": {
        "colab": {
          "base_uri": "https://localhost:8080/",
          "height": 144
        },
        "id": "lagCZyx9iF0x",
        "outputId": "bc347edb-0be1-4833-f528-30998f93883f"
      },
      "source": [
        "classifications = model.predict(test_images)\n",
        "\n",
        "index = 10\n",
        "print(classifications[index])\n",
        "display(Markdown(f'#<strong>Predicted Label:  {np.argmax(classifications[index])}</strong><br/>'))\n",
        "display(Markdown(f'#<strong>Actual Label:  {test_labels[index]}</strong><br/>'))"
      ],
      "execution_count": 118,
      "outputs": [
        {
          "output_type": "stream",
          "text": [
            "[0.9771075  0.01614317]\n"
          ],
          "name": "stdout"
        },
        {
          "output_type": "display_data",
          "data": {
            "text/markdown": "#<strong>Predicted Label:  0</strong><br/>",
            "text/plain": [
              "<IPython.core.display.Markdown object>"
            ]
          },
          "metadata": {
            "tags": []
          }
        },
        {
          "output_type": "display_data",
          "data": {
            "text/markdown": "#<strong>Actual Label:  False</strong><br/>",
            "text/plain": [
              "<IPython.core.display.Markdown object>"
            ]
          },
          "metadata": {
            "tags": []
          }
        }
      ]
    },
    {
      "cell_type": "code",
      "metadata": {
        "id": "In33KAgTiru5"
      },
      "source": [
        ""
      ],
      "execution_count": null,
      "outputs": []
    }
  ]
}