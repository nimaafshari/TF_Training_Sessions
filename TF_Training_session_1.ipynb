{
  "nbformat": 4,
  "nbformat_minor": 0,
  "metadata": {
    "colab": {
      "name": "TF_Training_session_1.ipynb",
      "provenance": [],
      "authorship_tag": "ABX9TyNDaP9FP2ch8jvBu87Kf7Eo",
      "include_colab_link": true
    },
    "kernelspec": {
      "name": "python3",
      "display_name": "Python 3"
    }
  },
  "cells": [
    {
      "cell_type": "markdown",
      "metadata": {
        "id": "view-in-github",
        "colab_type": "text"
      },
      "source": [
        "<a href=\"https://colab.research.google.com/github/nimaafshari/TF_Training_Sessions/blob/main/TF_Training_session_1.ipynb\" target=\"_parent\"><img src=\"https://colab.research.google.com/assets/colab-badge.svg\" alt=\"Open In Colab\"/></a>"
      ]
    },
    {
      "cell_type": "markdown",
      "metadata": {
        "id": "3I5FDKkYPWKc"
      },
      "source": [
        "### **ML_Session_1**\n",
        "\n",
        "In this notebook we will write the bare minimum code required to train a machine learning model using TensorFlow\n",
        "\n",
        "As usual in any python program we should import packages. TensorFlow accepts both TensorFlow tensors and Numpy arrays as its data structure. We import these two packages.\n",
        "\n"
      ]
    },
    {
      "cell_type": "code",
      "metadata": {
        "id": "dBNEHEmnFPrj"
      },
      "source": [
        "import tensorflow as tf\n",
        "import numpy as np"
      ],
      "execution_count": null,
      "outputs": []
    },
    {
      "cell_type": "markdown",
      "metadata": {
        "id": "BWalFCnyQ95Z"
      },
      "source": [
        "Let's define an easy regression problem, "
      ]
    },
    {
      "cell_type": "code",
      "metadata": {
        "id": "kF0uiR2Ghes0"
      },
      "source": [
        "x_train = np.array([1,2,3,4,5,6,7])\n",
        "y_train = np.array([.5,1,1.5,2,2.5,3,3.5])"
      ],
      "execution_count": null,
      "outputs": []
    },
    {
      "cell_type": "code",
      "metadata": {
        "id": "bCM5QyTnh2yt"
      },
      "source": [
        "model = tf.keras.Sequential([tf.keras.layers.Dense(1)])\n",
        "model.compile(loss='mse', optimizer='sgd')\n",
        "model.fit(x_train, y_train, epochs = 500)\n"
      ],
      "execution_count": null,
      "outputs": []
    },
    {
      "cell_type": "code",
      "metadata": {
        "id": "SbEsEae2i9NW",
        "colab": {
          "base_uri": "https://localhost:8080/"
        },
        "outputId": "a939370e-331a-4656-9c31-619b1a2554cb"
      },
      "source": [
        "model.predict(np.array([9]))"
      ],
      "execution_count": null,
      "outputs": [
        {
          "output_type": "execute_result",
          "data": {
            "text/plain": [
              "array([[4.5120373]], dtype=float32)"
            ]
          },
          "metadata": {
            "tags": []
          },
          "execution_count": 13
        }
      ]
    },
    {
      "cell_type": "code",
      "metadata": {
        "id": "dLj09vUDjQw5"
      },
      "source": [
        ""
      ],
      "execution_count": null,
      "outputs": []
    }
  ]
}