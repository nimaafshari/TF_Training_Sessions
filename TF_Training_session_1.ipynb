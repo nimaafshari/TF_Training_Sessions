{
  "nbformat": 4,
  "nbformat_minor": 0,
  "metadata": {
    "colab": {
      "name": "TF_Training_session_1.ipynb",
      "provenance": [],
      "authorship_tag": "ABX9TyOP/q4QUE2UtSYFo4UnTSl6",
      "include_colab_link": true
    },
    "kernelspec": {
      "name": "python3",
      "display_name": "Python 3"
    }
  },
  "cells": [
    {
      "cell_type": "markdown",
      "metadata": {
        "id": "view-in-github",
        "colab_type": "text"
      },
      "source": [
        "<a href=\"https://colab.research.google.com/github/nimaafshari/TF_Training_Sessions/blob/main/TF_Training_session_1.ipynb\" target=\"_parent\"><img src=\"https://colab.research.google.com/assets/colab-badge.svg\" alt=\"Open In Colab\"/></a>"
      ]
    },
    {
      "cell_type": "markdown",
      "metadata": {
        "id": "3I5FDKkYPWKc"
      },
      "source": [
        "### **ML_Session_1**\n",
        "\n",
        "In this notebook we will write the bare minimum code required to train a machine learning model using TensorFlow\n",
        "\n",
        "As usual in any python program we should import packages. TensorFlow accepts both TensorFlow tensors and Numpy arrays as its data structure. We import these two packages.\n",
        "\n"
      ]
    },
    {
      "cell_type": "code",
      "metadata": {
        "id": "dBNEHEmnFPrj"
      },
      "source": [
        "import tensorflow as tf\n",
        "import numpy as np"
      ],
      "execution_count": 1,
      "outputs": []
    },
    {
      "cell_type": "markdown",
      "metadata": {
        "id": "BWalFCnyQ95Z"
      },
      "source": [
        "Let's define an easy regression problem.\n",
        "Consider we want to predict house prices based on number of bedrooms they have. It starts from 150K for one bedroom house and for each extra bedroom we will see an extra 50K on the price based on our data. "
      ]
    },
    {
      "cell_type": "markdown",
      "metadata": {
        "id": "eDKQ06OeUAu5"
      },
      "source": [
        "![image.png](data:image/png;base64,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)"
      ]
    },
    {
      "cell_type": "markdown",
      "metadata": {
        "id": "knnn1D-uU1w2"
      },
      "source": [
        "One thing that helps optimizer to do the optimization faster and more accurate is normalization of the training data. There are various types of normalization which we will talk about them later. For now we just divide the prices by 100K to get a smaller and more comparable numbers"
      ]
    },
    {
      "cell_type": "code",
      "metadata": {
        "id": "kF0uiR2Ghes0"
      },
      "source": [
        "# Let's hard code the training data as numpy arrays\n",
        "x_train = np.array([1,2,3,4,5,6,7])\n",
        "y_train = np.array([1.5,2,2.5,3,3.5,4,4.5])"
      ],
      "execution_count": 2,
      "outputs": []
    },
    {
      "cell_type": "code",
      "metadata": {
        "id": "bCM5QyTnh2yt"
      },
      "source": [
        "# ANN structure\n",
        "model = tf.keras.Sequential([tf.keras.layers.Dense(1)])\n",
        "\n",
        "# ANN parameters, compulsory ones are loss_function and optimizer\n",
        "model.compile(loss='mse', optimizer='sgd')\n",
        "\n",
        "# Training the network using the trainig set and for a number of epochs\n",
        "model.fit(x_train, y_train, epochs = 500)\n"
      ],
      "execution_count": null,
      "outputs": []
    },
    {
      "cell_type": "markdown",
      "metadata": {
        "id": "_hk6LyP9XGJn"
      },
      "source": [
        "Epoch means number of times we use the whole dataset to train our network.\n",
        "\n",
        "It is different from Batch_size which indicates in which proportion of our dataset we update the parameters in batch gradient descent(The number befor the progress bar shows the batch_size)"
      ]
    },
    {
      "cell_type": "markdown",
      "metadata": {
        "id": "DoTlSrksX-AM"
      },
      "source": [
        "Let's check how good our trained network can predict"
      ]
    },
    {
      "cell_type": "code",
      "metadata": {
        "id": "SbEsEae2i9NW"
      },
      "source": [
        "model.predict(np.array([9]))"
      ],
      "execution_count": null,
      "outputs": []
    },
    {
      "cell_type": "markdown",
      "metadata": {
        "id": "ireHK8TGZMB0"
      },
      "source": [
        "(Add the hands-on practice question)"
      ]
    },
    {
      "cell_type": "code",
      "metadata": {
        "id": "dLj09vUDjQw5"
      },
      "source": [
        ""
      ],
      "execution_count": null,
      "outputs": []
    }
  ]
}